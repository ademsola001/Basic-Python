{
 "cells": [
  {
   "cell_type": "markdown",
   "id": "5cf1a1d4-c8ba-4409-88f8-a085963bee8c",
   "metadata": {},
   "source": [
    "# welcome to pyton"
   ]
  },
  {
   "cell_type": "code",
   "execution_count": 29,
   "id": "27006de2-961e-4571-8252-c641c7bd6045",
   "metadata": {
    "scrolled": true
   },
   "outputs": [
    {
     "data": {
      "text/plain": [
       "21"
      ]
     },
     "execution_count": 29,
     "metadata": {},
     "output_type": "execute_result"
    }
   ],
   "source": [
    "x=1 \n",
    "y=20\n",
    "x+y"
   ]
  },
  {
   "cell_type": "markdown",
   "id": "f959a356-f266-40f4-8c9e-f0a3841c0a6d",
   "metadata": {},
   "source": [
    "#### Python Variables are containers that store values.we do not need to declare variables before using them,a variable is created the moment we first assign a value to it. we can call python variable memory location.\n"
   ]
  },
  {
   "cell_type": "code",
   "execution_count": 30,
   "id": "b89e12ca-fd90-4341-8eb1-5bf10085f7e1",
   "metadata": {},
   "outputs": [],
   "source": [
    "x=\"Hello World\""
   ]
  },
  {
   "cell_type": "code",
   "execution_count": 31,
   "id": "56495553-0e6a-43df-b3b4-8290ed8478b7",
   "metadata": {},
   "outputs": [
    {
     "data": {
      "text/plain": [
       "'Hello World'"
      ]
     },
     "execution_count": 31,
     "metadata": {},
     "output_type": "execute_result"
    }
   ],
   "source": [
    "x"
   ]
  },
  {
   "cell_type": "code",
   "execution_count": 32,
   "id": "18462523-d15f-4fb7-bc50-7be6881267fe",
   "metadata": {},
   "outputs": [
    {
     "data": {
      "text/plain": [
       "1.6666666666666667"
      ]
     },
     "execution_count": 32,
     "metadata": {},
     "output_type": "execute_result"
    }
   ],
   "source": [
    "y=500\n",
    "z=300\n",
    "y/z"
   ]
  },
  {
   "cell_type": "code",
   "execution_count": 33,
   "id": "745d7e86-1363-4dc0-af98-00b7919a85ab",
   "metadata": {},
   "outputs": [],
   "source": [
    "name=\"Olalekan\""
   ]
  },
  {
   "cell_type": "code",
   "execution_count": 34,
   "id": "fa61cc5c-6c35-46fe-ac3f-e5dd9c2427cf",
   "metadata": {},
   "outputs": [
    {
     "data": {
      "text/plain": [
       "'Olalekan'"
      ]
     },
     "execution_count": 34,
     "metadata": {},
     "output_type": "execute_result"
    }
   ],
   "source": [
    "name"
   ]
  },
  {
   "cell_type": "code",
   "execution_count": 35,
   "id": "0ace5501-3f25-426c-bd9c-dd7801791741",
   "metadata": {},
   "outputs": [],
   "source": [
    "first_name=\"Ademola\""
   ]
  },
  {
   "cell_type": "code",
   "execution_count": 36,
   "id": "c22632b8-9355-4c6f-9657-0cf32bbbafd0",
   "metadata": {},
   "outputs": [
    {
     "data": {
      "text/plain": [
       "'Olalekan Ademola'"
      ]
     },
     "execution_count": 36,
     "metadata": {},
     "output_type": "execute_result"
    }
   ],
   "source": [
    "name+ ' '+first_name"
   ]
  },
  {
   "cell_type": "code",
   "execution_count": 37,
   "id": "3246637e-1371-451f-9595-3194ff6a52db",
   "metadata": {},
   "outputs": [
    {
     "data": {
      "text/plain": [
       "'Hello World'"
      ]
     },
     "execution_count": 37,
     "metadata": {},
     "output_type": "execute_result"
    }
   ],
   "source": [
    "x"
   ]
  },
  {
   "cell_type": "markdown",
   "id": "69c73da3-5803-4262-8822-71225bef2436",
   "metadata": {},
   "source": [
    "### The rules of a python variable\n",
    "##### 1  A python variable name must start with a letter or an underscore character  \n",
    "##### 2  A python variable name can not start with a number \n",
    "##### 3  A python variable name can only contain Alpha-numeric characters and underscore\n",
    "##### 4  variables in python are case sensitive \n",
    "##### 5  We cannot use pyhton key words to name variables\n",
    "\n"
   ]
  },
  {
   "cell_type": "code",
   "execution_count": 38,
   "id": "aba8afde-5e59-43c0-a0c7-5984fd05e209",
   "metadata": {},
   "outputs": [],
   "source": [
    "For=20"
   ]
  },
  {
   "cell_type": "code",
   "execution_count": 39,
   "id": "0cee764d-fa19-4574-aca7-927f4e83b6f5",
   "metadata": {},
   "outputs": [
    {
     "data": {
      "text/plain": [
       "20"
      ]
     },
     "execution_count": 39,
     "metadata": {},
     "output_type": "execute_result"
    }
   ],
   "source": [
    "For"
   ]
  },
  {
   "cell_type": "markdown",
   "id": "8450bc6a-abae-4ee9-94af-1a59b37b2d16",
   "metadata": {},
   "source": [
    "Data types in python are the classification or categorization of data items it represents the kind of values that tells  what operation can be performed on a particular data \n"
   ]
  },
  {
   "cell_type": "code",
   "execution_count": 40,
   "id": "b09cb0ab-c95a-44cf-92ad-95f89954e006",
   "metadata": {},
   "outputs": [],
   "source": [
    "string='hello_world'\n",
    "num=50\n",
    "flt=60.5\n",
    "list=['lagos','ibadan','enugu','abuja']\n",
    "dict={'name':'bayo','age':24}\n"
   ]
  },
  {
   "cell_type": "code",
   "execution_count": 41,
   "id": "d1d142de-fd2a-4b86-b678-944ba2d20ce0",
   "metadata": {},
   "outputs": [
    {
     "data": {
      "text/plain": [
       "['lagos', 'ibadan', 'enugu', 'abuja']"
      ]
     },
     "execution_count": 41,
     "metadata": {},
     "output_type": "execute_result"
    }
   ],
   "source": [
    "list"
   ]
  },
  {
   "cell_type": "code",
   "execution_count": 42,
   "id": "7443b5ae-8ef2-4dd2-b0f9-fb288981ce1e",
   "metadata": {},
   "outputs": [
    {
     "data": {
      "text/plain": [
       "list"
      ]
     },
     "execution_count": 42,
     "metadata": {},
     "output_type": "execute_result"
    }
   ],
   "source": [
    "type (list)"
   ]
  },
  {
   "cell_type": "code",
   "execution_count": 43,
   "id": "52815a3a-8f97-40a8-9c88-8b6faa113954",
   "metadata": {},
   "outputs": [
    {
     "data": {
      "text/plain": [
       "['lagos', 'ibadan', 'enugu', 'abuja']"
      ]
     },
     "execution_count": 43,
     "metadata": {},
     "output_type": "execute_result"
    }
   ],
   "source": [
    "list"
   ]
  },
  {
   "cell_type": "code",
   "execution_count": 44,
   "id": "c7f2c1af-20f1-4090-af69-ddc4094fac5b",
   "metadata": {},
   "outputs": [
    {
     "data": {
      "text/plain": [
       "'hello_world'"
      ]
     },
     "execution_count": 44,
     "metadata": {},
     "output_type": "execute_result"
    }
   ],
   "source": [
    "string"
   ]
  },
  {
   "cell_type": "code",
   "execution_count": 45,
   "id": "9a5e2048-0bdf-4556-9d46-80c688a4d4ae",
   "metadata": {},
   "outputs": [
    {
     "data": {
      "text/plain": [
       "False"
      ]
     },
     "execution_count": 45,
     "metadata": {},
     "output_type": "execute_result"
    }
   ],
   "source": [
    "string==num"
   ]
  },
  {
   "cell_type": "code",
   "execution_count": 46,
   "id": "deaa1c6c-811b-41df-ba0d-a9b40170f352",
   "metadata": {},
   "outputs": [],
   "source": [
    "cities=['lagos','ibadan','enugu','abuja']"
   ]
  },
  {
   "cell_type": "code",
   "execution_count": 47,
   "id": "c41203d6-d844-4a2a-b1bb-d831ba18e2c7",
   "metadata": {},
   "outputs": [
    {
     "data": {
      "text/plain": [
       "True"
      ]
     },
     "execution_count": 47,
     "metadata": {},
     "output_type": "execute_result"
    }
   ],
   "source": [
    "cities==list"
   ]
  },
  {
   "cell_type": "code",
   "execution_count": 47,
   "id": "af4d4cda-28c7-4936-aaa6-81092347b75e",
   "metadata": {},
   "outputs": [
    {
     "data": {
      "text/plain": [
       "True"
      ]
     },
     "execution_count": 47,
     "metadata": {},
     "output_type": "execute_result"
    }
   ],
   "source": [
    "cities==list"
   ]
  },
  {
   "cell_type": "code",
   "execution_count": 47,
   "id": "c2acbd48-a8d7-4cf0-b5ca-415766cb74fc",
   "metadata": {},
   "outputs": [
    {
     "data": {
      "text/plain": [
       "True"
      ]
     },
     "execution_count": 47,
     "metadata": {},
     "output_type": "execute_result"
    }
   ],
   "source": [
    "cities==list"
   ]
  },
  {
   "cell_type": "code",
   "execution_count": 47,
   "id": "b04f1ad8-9394-4158-aba1-9818d3715d63",
   "metadata": {},
   "outputs": [
    {
     "data": {
      "text/plain": [
       "True"
      ]
     },
     "execution_count": 47,
     "metadata": {},
     "output_type": "execute_result"
    }
   ],
   "source": [
    "cities==list"
   ]
  },
  {
   "cell_type": "code",
   "execution_count": 47,
   "id": "93d11108-c7bd-490e-bbb0-071f217156e5",
   "metadata": {},
   "outputs": [
    {
     "data": {
      "text/plain": [
       "True"
      ]
     },
     "execution_count": 47,
     "metadata": {},
     "output_type": "execute_result"
    }
   ],
   "source": [
    "cities==list"
   ]
  },
  {
   "cell_type": "code",
   "execution_count": 47,
   "id": "043d6c6b-1392-4149-be77-3acb4710d976",
   "metadata": {},
   "outputs": [
    {
     "data": {
      "text/plain": [
       "True"
      ]
     },
     "execution_count": 47,
     "metadata": {},
     "output_type": "execute_result"
    }
   ],
   "source": [
    "cities==list"
   ]
  },
  {
   "cell_type": "code",
   "execution_count": 47,
   "id": "6992a803-e69e-4381-b9e8-2856fa2901d2",
   "metadata": {},
   "outputs": [
    {
     "data": {
      "text/plain": [
       "True"
      ]
     },
     "execution_count": 47,
     "metadata": {},
     "output_type": "execute_result"
    }
   ],
   "source": [
    "cities==list"
   ]
  },
  {
   "cell_type": "code",
   "execution_count": 48,
   "id": "1a4deda3-0869-4b9d-9959-48f3b54c9c85",
   "metadata": {},
   "outputs": [],
   "source": [
    "city='lagos'"
   ]
  },
  {
   "cell_type": "code",
   "execution_count": 51,
   "id": "3b1bc1eb-6bd4-4bdf-865c-f8070349079d",
   "metadata": {},
   "outputs": [
    {
     "name": "stdout",
     "output_type": "stream",
     "text": [
      "d\n"
     ]
    }
   ],
   "source": [
    "print(string[-1])"
   ]
  },
  {
   "cell_type": "code",
   "execution_count": 53,
   "id": "89de5810-0608-4240-9def-bbe7ce894733",
   "metadata": {},
   "outputs": [
    {
     "name": "stdout",
     "output_type": "stream",
     "text": [
      "lagos\n"
     ]
    }
   ],
   "source": [
    "print(list[0])"
   ]
  },
  {
   "cell_type": "markdown",
   "id": "509ba8d3-92a4-47ef-b7b3-ae23dae6389c",
   "metadata": {},
   "source": [
    "A dictionary can be created by placing a sequence of element within curly curly brackets{} seperated by commas,a dictionary holds a key :value pair.each key value pair in a dictionary is seperated by a column whereas each key is seperated by a coma, values in a dictionary can be of any data type and can be duplicated whereas keys cant be repeated and must be immutable "
   ]
  },
  {
   "cell_type": "code",
   "execution_count": 2,
   "id": "4a5b9b08-9489-441d-92b0-077602f060c2",
   "metadata": {},
   "outputs": [
    {
     "data": {
      "text/plain": [
       "'Lagos'"
      ]
     },
     "execution_count": 2,
     "metadata": {},
     "output_type": "execute_result"
    }
   ],
   "source": [
    "dict={1:\"Michelle\",2:\"Segun\",3:\"Ola\",4:\"Lagos\"}\n",
    "dict[4]"
   ]
  },
  {
   "cell_type": "code",
   "execution_count": 3,
   "id": "b582c210-405b-47c2-a9b4-5e8ed942dcfd",
   "metadata": {},
   "outputs": [
    {
     "data": {
      "text/plain": [
       "'Segun'"
      ]
     },
     "execution_count": 3,
     "metadata": {},
     "output_type": "execute_result"
    }
   ],
   "source": [
    "dict[2]"
   ]
  },
  {
   "cell_type": "code",
   "execution_count": null,
   "id": "7a01a479-6b4f-4703-801c-e27e9f9db510",
   "metadata": {},
   "outputs": [],
   "source": []
  }
 ],
 "metadata": {
  "kernelspec": {
   "display_name": "Python 3 (ipykernel)",
   "language": "python",
   "name": "python3"
  },
  "language_info": {
   "codemirror_mode": {
    "name": "ipython",
    "version": 3
   },
   "file_extension": ".py",
   "mimetype": "text/x-python",
   "name": "python",
   "nbconvert_exporter": "python",
   "pygments_lexer": "ipython3",
   "version": "3.11.7"
  }
 },
 "nbformat": 4,
 "nbformat_minor": 5
}
