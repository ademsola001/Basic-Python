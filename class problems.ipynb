{
 "cells": [
  {
   "cell_type": "code",
   "execution_count": 25,
   "id": "0c9e077a-6c93-4832-913d-30287aa6f449",
   "metadata": {},
   "outputs": [],
   "source": [
    "import numpy as np\n",
    "import pandas as pd\n",
    "import matplotlib.pyplot as plt \n",
    "import seaborn as sns"
   ]
  },
  {
   "cell_type": "code",
   "execution_count": 26,
   "id": "64fba129-6e52-4d98-872f-c2be41a3030c",
   "metadata": {},
   "outputs": [],
   "source": [
    "df=pd.read_csv(r\"C:\\Users\\user\\Downloads\\raw_dataset.csv\")"
   ]
  },
  {
   "cell_type": "code",
   "execution_count": 27,
   "id": "55715f86-e367-48ba-9b57-fac73af957ae",
   "metadata": {},
   "outputs": [
    {
     "data": {
      "text/html": [
       "<div>\n",
       "<style scoped>\n",
       "    .dataframe tbody tr th:only-of-type {\n",
       "        vertical-align: middle;\n",
       "    }\n",
       "\n",
       "    .dataframe tbody tr th {\n",
       "        vertical-align: top;\n",
       "    }\n",
       "\n",
       "    .dataframe thead th {\n",
       "        text-align: right;\n",
       "    }\n",
       "</style>\n",
       "<table border=\"1\" class=\"dataframe\">\n",
       "  <thead>\n",
       "    <tr style=\"text-align: right;\">\n",
       "      <th></th>\n",
       "      <th>First Name</th>\n",
       "      <th>Last name</th>\n",
       "      <th>Age</th>\n",
       "      <th>SALARY</th>\n",
       "      <th>STREET Address1</th>\n",
       "      <th>STREET Address2</th>\n",
       "      <th>STREET Address3</th>\n",
       "      <th>email</th>\n",
       "    </tr>\n",
       "  </thead>\n",
       "  <tbody>\n",
       "    <tr>\n",
       "      <th>0</th>\n",
       "      <td>Joel</td>\n",
       "      <td>Padilla</td>\n",
       "      <td>10/28/2019</td>\n",
       "      <td>$92.32</td>\n",
       "      <td>431-6530 Eu, Rd.</td>\n",
       "      <td>364-2264 Augue Rd.</td>\n",
       "      <td>P.O. Box 864, 3882 Orci Street</td>\n",
       "      <td>eu@nibh.com</td>\n",
       "    </tr>\n",
       "    <tr>\n",
       "      <th>1</th>\n",
       "      <td>Fritz</td>\n",
       "      <td>Tyler</td>\n",
       "      <td>09/27/2019</td>\n",
       "      <td>$83.91</td>\n",
       "      <td>Ap #377-2267 Ac Av.</td>\n",
       "      <td>979-2228 Vel Ave</td>\n",
       "      <td>9865 Eu Av.</td>\n",
       "      <td>est.ac.mattis@malesuadafringilla.net</td>\n",
       "    </tr>\n",
       "    <tr>\n",
       "      <th>2</th>\n",
       "      <td>Wing</td>\n",
       "      <td>Phelps</td>\n",
       "      <td>02/18/2019</td>\n",
       "      <td>$17.15</td>\n",
       "      <td>Ap #545-5786 Pulvinar Ave</td>\n",
       "      <td>Ap #973-5781 Sagittis Avenue</td>\n",
       "      <td>9959 Ut St.</td>\n",
       "      <td>dolor@cubilia.net</td>\n",
       "    </tr>\n",
       "    <tr>\n",
       "      <th>3</th>\n",
       "      <td>Ryan</td>\n",
       "      <td>Ross</td>\n",
       "      <td>05/21/2019</td>\n",
       "      <td>$45.97</td>\n",
       "      <td>634-7858 Id Road</td>\n",
       "      <td>907-8824 Fringilla Ave</td>\n",
       "      <td>318-5271 In Ave</td>\n",
       "      <td>interdum.libero.dui@vitaeerat.com</td>\n",
       "    </tr>\n",
       "    <tr>\n",
       "      <th>4</th>\n",
       "      <td>Drake</td>\n",
       "      <td>Day</td>\n",
       "      <td>01/09/2020</td>\n",
       "      <td>$84.38</td>\n",
       "      <td>999-8221 Tempor, St.</td>\n",
       "      <td>297-6939 Turpis. Ave</td>\n",
       "      <td>P.O. Box 638, 6932 Laoreet Rd.</td>\n",
       "      <td>nulla.Integer.vulputate@liberoat.ca</td>\n",
       "    </tr>\n",
       "    <tr>\n",
       "      <th>...</th>\n",
       "      <td>...</td>\n",
       "      <td>...</td>\n",
       "      <td>...</td>\n",
       "      <td>...</td>\n",
       "      <td>...</td>\n",
       "      <td>...</td>\n",
       "      <td>...</td>\n",
       "      <td>...</td>\n",
       "    </tr>\n",
       "    <tr>\n",
       "      <th>95</th>\n",
       "      <td>Victor</td>\n",
       "      <td>Hobbs</td>\n",
       "      <td>05/24/2019</td>\n",
       "      <td>$54.56</td>\n",
       "      <td>4034 Vitae St.</td>\n",
       "      <td>P.O. Box 930, 1683 Eu Rd.</td>\n",
       "      <td>P.O. Box 181, 3360 Mus. Rd.</td>\n",
       "      <td>ipsum@dictumaugue.com</td>\n",
       "    </tr>\n",
       "    <tr>\n",
       "      <th>96</th>\n",
       "      <td>Neil</td>\n",
       "      <td>Bradford</td>\n",
       "      <td>02/07/2020</td>\n",
       "      <td>$74.52</td>\n",
       "      <td>1434 Aliquet, Street</td>\n",
       "      <td>956-6627 Nunc Av.</td>\n",
       "      <td>Ap #727-6109 Sapien. Av.</td>\n",
       "      <td>sapien.Nunc@euodioPhasellus.net</td>\n",
       "    </tr>\n",
       "    <tr>\n",
       "      <th>97</th>\n",
       "      <td>Noble</td>\n",
       "      <td>Conrad</td>\n",
       "      <td>10/29/2019</td>\n",
       "      <td>$43.99</td>\n",
       "      <td>Ap #173-7049 Eget, St.</td>\n",
       "      <td>Ap #620-2512 Ut Street</td>\n",
       "      <td>8768 Aenean St.</td>\n",
       "      <td>tellus.Nunc.lectus@ornare.org</td>\n",
       "    </tr>\n",
       "    <tr>\n",
       "      <th>98</th>\n",
       "      <td>Brody</td>\n",
       "      <td>Whitaker</td>\n",
       "      <td>08/09/2018</td>\n",
       "      <td>$96.24</td>\n",
       "      <td>Ap #371-9803 Aliquam Rd.</td>\n",
       "      <td>8892 Euismod Street</td>\n",
       "      <td>Ap #201-659 Libero. Street</td>\n",
       "      <td>non.dapibus.rutrum@eumetus.co.uk</td>\n",
       "    </tr>\n",
       "    <tr>\n",
       "      <th>99</th>\n",
       "      <td>Alden</td>\n",
       "      <td>Mccormick</td>\n",
       "      <td>07/27/2019</td>\n",
       "      <td>$2.66</td>\n",
       "      <td>Ap #375-1139 Risus. Road</td>\n",
       "      <td>7259 Duis Avenue</td>\n",
       "      <td>955-4058 Maecenas St.</td>\n",
       "      <td>ut.erat@aceleifend.com</td>\n",
       "    </tr>\n",
       "  </tbody>\n",
       "</table>\n",
       "<p>100 rows × 8 columns</p>\n",
       "</div>"
      ],
      "text/plain": [
       "   First Name  Last name         Age  SALARY            STREET Address1  \\\n",
       "0        Joel    Padilla  10/28/2019  $92.32           431-6530 Eu, Rd.   \n",
       "1       Fritz      Tyler  09/27/2019  $83.91        Ap #377-2267 Ac Av.   \n",
       "2        Wing     Phelps  02/18/2019  $17.15  Ap #545-5786 Pulvinar Ave   \n",
       "3        Ryan       Ross  05/21/2019  $45.97           634-7858 Id Road   \n",
       "4       Drake        Day  01/09/2020  $84.38       999-8221 Tempor, St.   \n",
       "..        ...        ...         ...     ...                        ...   \n",
       "95     Victor      Hobbs  05/24/2019  $54.56             4034 Vitae St.   \n",
       "96       Neil   Bradford  02/07/2020  $74.52       1434 Aliquet, Street   \n",
       "97      Noble     Conrad  10/29/2019  $43.99     Ap #173-7049 Eget, St.   \n",
       "98      Brody   Whitaker  08/09/2018  $96.24   Ap #371-9803 Aliquam Rd.   \n",
       "99      Alden  Mccormick  07/27/2019   $2.66   Ap #375-1139 Risus. Road   \n",
       "\n",
       "                 STREET Address2                 STREET Address3  \\\n",
       "0             364-2264 Augue Rd.  P.O. Box 864, 3882 Orci Street   \n",
       "1               979-2228 Vel Ave                     9865 Eu Av.   \n",
       "2   Ap #973-5781 Sagittis Avenue                     9959 Ut St.   \n",
       "3         907-8824 Fringilla Ave                 318-5271 In Ave   \n",
       "4           297-6939 Turpis. Ave  P.O. Box 638, 6932 Laoreet Rd.   \n",
       "..                           ...                             ...   \n",
       "95     P.O. Box 930, 1683 Eu Rd.     P.O. Box 181, 3360 Mus. Rd.   \n",
       "96             956-6627 Nunc Av.        Ap #727-6109 Sapien. Av.   \n",
       "97        Ap #620-2512 Ut Street                 8768 Aenean St.   \n",
       "98           8892 Euismod Street      Ap #201-659 Libero. Street   \n",
       "99              7259 Duis Avenue           955-4058 Maecenas St.   \n",
       "\n",
       "                                   email  \n",
       "0                            eu@nibh.com  \n",
       "1   est.ac.mattis@malesuadafringilla.net  \n",
       "2                      dolor@cubilia.net  \n",
       "3      interdum.libero.dui@vitaeerat.com  \n",
       "4    nulla.Integer.vulputate@liberoat.ca  \n",
       "..                                   ...  \n",
       "95                 ipsum@dictumaugue.com  \n",
       "96       sapien.Nunc@euodioPhasellus.net  \n",
       "97         tellus.Nunc.lectus@ornare.org  \n",
       "98      non.dapibus.rutrum@eumetus.co.uk  \n",
       "99                ut.erat@aceleifend.com  \n",
       "\n",
       "[100 rows x 8 columns]"
      ]
     },
     "execution_count": 27,
     "metadata": {},
     "output_type": "execute_result"
    }
   ],
   "source": [
    "df"
   ]
  },
  {
   "cell_type": "code",
   "execution_count": 28,
   "id": "53f68046-cdd7-49ed-b258-ea7c68e63459",
   "metadata": {},
   "outputs": [
    {
     "data": {
      "text/html": [
       "<div>\n",
       "<style scoped>\n",
       "    .dataframe tbody tr th:only-of-type {\n",
       "        vertical-align: middle;\n",
       "    }\n",
       "\n",
       "    .dataframe tbody tr th {\n",
       "        vertical-align: top;\n",
       "    }\n",
       "\n",
       "    .dataframe thead th {\n",
       "        text-align: right;\n",
       "    }\n",
       "</style>\n",
       "<table border=\"1\" class=\"dataframe\">\n",
       "  <thead>\n",
       "    <tr style=\"text-align: right;\">\n",
       "      <th></th>\n",
       "      <th>First Name</th>\n",
       "      <th>Last name</th>\n",
       "      <th>Age</th>\n",
       "      <th>SALARY</th>\n",
       "      <th>STREET Address1</th>\n",
       "      <th>STREET Address2</th>\n",
       "      <th>STREET Address3</th>\n",
       "      <th>email</th>\n",
       "    </tr>\n",
       "  </thead>\n",
       "  <tbody>\n",
       "    <tr>\n",
       "      <th>0</th>\n",
       "      <td>Joel</td>\n",
       "      <td>Padilla</td>\n",
       "      <td>10/28/2019</td>\n",
       "      <td>$92.32</td>\n",
       "      <td>431-6530 Eu, Rd.</td>\n",
       "      <td>364-2264 Augue Rd.</td>\n",
       "      <td>P.O. Box 864, 3882 Orci Street</td>\n",
       "      <td>eu@nibh.com</td>\n",
       "    </tr>\n",
       "    <tr>\n",
       "      <th>1</th>\n",
       "      <td>Fritz</td>\n",
       "      <td>Tyler</td>\n",
       "      <td>09/27/2019</td>\n",
       "      <td>$83.91</td>\n",
       "      <td>Ap #377-2267 Ac Av.</td>\n",
       "      <td>979-2228 Vel Ave</td>\n",
       "      <td>9865 Eu Av.</td>\n",
       "      <td>est.ac.mattis@malesuadafringilla.net</td>\n",
       "    </tr>\n",
       "    <tr>\n",
       "      <th>2</th>\n",
       "      <td>Wing</td>\n",
       "      <td>Phelps</td>\n",
       "      <td>02/18/2019</td>\n",
       "      <td>$17.15</td>\n",
       "      <td>Ap #545-5786 Pulvinar Ave</td>\n",
       "      <td>Ap #973-5781 Sagittis Avenue</td>\n",
       "      <td>9959 Ut St.</td>\n",
       "      <td>dolor@cubilia.net</td>\n",
       "    </tr>\n",
       "    <tr>\n",
       "      <th>3</th>\n",
       "      <td>Ryan</td>\n",
       "      <td>Ross</td>\n",
       "      <td>05/21/2019</td>\n",
       "      <td>$45.97</td>\n",
       "      <td>634-7858 Id Road</td>\n",
       "      <td>907-8824 Fringilla Ave</td>\n",
       "      <td>318-5271 In Ave</td>\n",
       "      <td>interdum.libero.dui@vitaeerat.com</td>\n",
       "    </tr>\n",
       "    <tr>\n",
       "      <th>4</th>\n",
       "      <td>Drake</td>\n",
       "      <td>Day</td>\n",
       "      <td>01/09/2020</td>\n",
       "      <td>$84.38</td>\n",
       "      <td>999-8221 Tempor, St.</td>\n",
       "      <td>297-6939 Turpis. Ave</td>\n",
       "      <td>P.O. Box 638, 6932 Laoreet Rd.</td>\n",
       "      <td>nulla.Integer.vulputate@liberoat.ca</td>\n",
       "    </tr>\n",
       "  </tbody>\n",
       "</table>\n",
       "</div>"
      ],
      "text/plain": [
       "  First Name Last name         Age  SALARY            STREET Address1  \\\n",
       "0       Joel   Padilla  10/28/2019  $92.32           431-6530 Eu, Rd.   \n",
       "1      Fritz     Tyler  09/27/2019  $83.91        Ap #377-2267 Ac Av.   \n",
       "2       Wing    Phelps  02/18/2019  $17.15  Ap #545-5786 Pulvinar Ave   \n",
       "3       Ryan      Ross  05/21/2019  $45.97           634-7858 Id Road   \n",
       "4      Drake       Day  01/09/2020  $84.38       999-8221 Tempor, St.   \n",
       "\n",
       "                STREET Address2                 STREET Address3  \\\n",
       "0            364-2264 Augue Rd.  P.O. Box 864, 3882 Orci Street   \n",
       "1              979-2228 Vel Ave                     9865 Eu Av.   \n",
       "2  Ap #973-5781 Sagittis Avenue                     9959 Ut St.   \n",
       "3        907-8824 Fringilla Ave                 318-5271 In Ave   \n",
       "4          297-6939 Turpis. Ave  P.O. Box 638, 6932 Laoreet Rd.   \n",
       "\n",
       "                                  email  \n",
       "0                           eu@nibh.com  \n",
       "1  est.ac.mattis@malesuadafringilla.net  \n",
       "2                     dolor@cubilia.net  \n",
       "3     interdum.libero.dui@vitaeerat.com  \n",
       "4   nulla.Integer.vulputate@liberoat.ca  "
      ]
     },
     "execution_count": 28,
     "metadata": {},
     "output_type": "execute_result"
    }
   ],
   "source": [
    "(df.head())\n"
   ]
  },
  {
   "cell_type": "code",
   "execution_count": 30,
   "id": "ddc61cfd-3694-4a06-8c0f-27c2906ff1e8",
   "metadata": {},
   "outputs": [
    {
     "data": {
      "text/plain": [
       "Index(['First Name', 'Last name', 'Age', 'SALARY', 'STREET Address1',\n",
       "       'STREET Address2', 'STREET Address3', 'email'],\n",
       "      dtype='object')"
      ]
     },
     "execution_count": 30,
     "metadata": {},
     "output_type": "execute_result"
    }
   ],
   "source": [
    "df.columns"
   ]
  },
  {
   "cell_type": "code",
   "execution_count": 29,
   "id": "448989e4-bc29-41f8-9a4c-357861d80c79",
   "metadata": {},
   "outputs": [
    {
     "data": {
      "text/plain": [
       "0      92.32\n",
       "1      83.91\n",
       "2      17.15\n",
       "3      45.97\n",
       "4      84.38\n",
       "       ...  \n",
       "95     54.56\n",
       "96     74.52\n",
       "97     43.99\n",
       "98     96.24\n",
       "99      2.66\n",
       "Name: SALARY, Length: 100, dtype: object"
      ]
     },
     "execution_count": 29,
     "metadata": {},
     "output_type": "execute_result"
    }
   ],
   "source": [
    "df['SALARY']=df['SALARY'].str.replace(\"$\",\" \")\n",
    "df['SALARY']"
   ]
  },
  {
   "cell_type": "code",
   "execution_count": 38,
   "id": "914d6f0f-55e2-443d-9d7e-1314b52982c5",
   "metadata": {},
   "outputs": [],
   "source": [
    "df['SALARY'] = df['SALARY'].astype(float)\n"
   ]
  },
  {
   "cell_type": "code",
   "execution_count": 40,
   "id": "ddbfdbc8-c28a-4faf-94d7-dc7d23a312c6",
   "metadata": {
    "scrolled": true
   },
   "outputs": [
    {
     "name": "stdout",
     "output_type": "stream",
     "text": [
      "<class 'pandas.core.frame.DataFrame'>\n",
      "RangeIndex: 100 entries, 0 to 99\n",
      "Data columns (total 8 columns):\n",
      " #   Column           Non-Null Count  Dtype  \n",
      "---  ------           --------------  -----  \n",
      " 0   First Name       100 non-null    object \n",
      " 1   Last name        100 non-null    object \n",
      " 2   Age              100 non-null    object \n",
      " 3   SALARY           100 non-null    float64\n",
      " 4   STREET Address1  100 non-null    object \n",
      " 5   STREET Address2  100 non-null    object \n",
      " 6   STREET Address3  100 non-null    object \n",
      " 7   email            100 non-null    object \n",
      "dtypes: float64(1), object(7)\n",
      "memory usage: 6.4+ KB\n"
     ]
    }
   ],
   "source": [
    "df.info()"
   ]
  },
  {
   "cell_type": "code",
   "execution_count": 41,
   "id": "f8f05417-a3ba-4bdb-a007-5bf1093bc59f",
   "metadata": {},
   "outputs": [
    {
     "data": {
      "text/plain": [
       "49.3699"
      ]
     },
     "execution_count": 41,
     "metadata": {},
     "output_type": "execute_result"
    }
   ],
   "source": [
    "df['SALARY'].mean()"
   ]
  },
  {
   "cell_type": "code",
   "execution_count": 31,
   "id": "1e81ec8c-4f99-4d11-aacf-4400e836ab8d",
   "metadata": {},
   "outputs": [
    {
     "data": {
      "text/plain": [
       "array(['First Name', 'Last name', 'Age', 'SALARY', 'STREET Address1',\n",
       "       'STREET Address2', 'STREET Address3', 'email'], dtype=object)"
      ]
     },
     "execution_count": 31,
     "metadata": {},
     "output_type": "execute_result"
    }
   ],
   "source": [
    "df.columns.values"
   ]
  },
  {
   "cell_type": "code",
   "execution_count": 32,
   "id": "78015c4c-c94b-4f6e-88c0-a742442d4633",
   "metadata": {},
   "outputs": [
    {
     "data": {
      "text/plain": [
       "['First Name',\n",
       " 'Last name',\n",
       " 'Age',\n",
       " 'SALARY',\n",
       " 'STREET Address1',\n",
       " 'STREET Address2',\n",
       " 'STREET Address3',\n",
       " 'email']"
      ]
     },
     "execution_count": 32,
     "metadata": {},
     "output_type": "execute_result"
    }
   ],
   "source": [
    "df.columns.tolist()"
   ]
  },
  {
   "cell_type": "code",
   "execution_count": 36,
   "id": "7ee4b0c8-a431-4abe-ab60-96e1f87ba449",
   "metadata": {},
   "outputs": [
    {
     "name": "stdout",
     "output_type": "stream",
     "text": [
      "<class 'pandas.core.frame.DataFrame'>\n",
      "RangeIndex: 100 entries, 0 to 99\n",
      "Data columns (total 8 columns):\n",
      " #   Column           Non-Null Count  Dtype \n",
      "---  ------           --------------  ----- \n",
      " 0   First Name       100 non-null    object\n",
      " 1   Last name        100 non-null    object\n",
      " 2   Age              100 non-null    object\n",
      " 3   SALARY           100 non-null    object\n",
      " 4   STREET Address1  100 non-null    object\n",
      " 5   STREET Address2  100 non-null    object\n",
      " 6   STREET Address3  100 non-null    object\n",
      " 7   email            100 non-null    object\n",
      "dtypes: object(8)\n",
      "memory usage: 6.4+ KB\n"
     ]
    }
   ],
   "source": [
    "df.info()"
   ]
  },
  {
   "cell_type": "code",
   "execution_count": null,
   "id": "b8bbcfdd-0f59-4c7d-8e15-54b83ea0cc8e",
   "metadata": {},
   "outputs": [],
   "source": []
  }
 ],
 "metadata": {
  "kernelspec": {
   "display_name": "Python 3 (ipykernel)",
   "language": "python",
   "name": "python3"
  },
  "language_info": {
   "codemirror_mode": {
    "name": "ipython",
    "version": 3
   },
   "file_extension": ".py",
   "mimetype": "text/x-python",
   "name": "python",
   "nbconvert_exporter": "python",
   "pygments_lexer": "ipython3",
   "version": "3.11.7"
  }
 },
 "nbformat": 4,
 "nbformat_minor": 5
}
